{
 "cells": [
  {
   "cell_type": "code",
   "execution_count": 1,
   "metadata": {},
   "outputs": [],
   "source": [
    "import numpy as np\n",
    "import pandas as pd\n",
    "import matplotlib.pyplot as plt\n",
    "import seaborn as sns\n",
    "%matplotlib inline"
   ]
  },
  {
   "cell_type": "code",
   "execution_count": 2,
   "metadata": {},
   "outputs": [],
   "source": [
    "df = pd.read_csv(\"train_data.csv\")"
   ]
  },
  {
   "cell_type": "code",
   "execution_count": 3,
   "metadata": {},
   "outputs": [
    {
     "data": {
      "text/html": [
       "<div>\n",
       "<style scoped>\n",
       "    .dataframe tbody tr th:only-of-type {\n",
       "        vertical-align: middle;\n",
       "    }\n",
       "\n",
       "    .dataframe tbody tr th {\n",
       "        vertical-align: top;\n",
       "    }\n",
       "\n",
       "    .dataframe thead th {\n",
       "        text-align: right;\n",
       "    }\n",
       "</style>\n",
       "<table border=\"1\" class=\"dataframe\">\n",
       "  <thead>\n",
       "    <tr style=\"text-align: right;\">\n",
       "      <th></th>\n",
       "      <th>case_id</th>\n",
       "      <th>Hospital_code</th>\n",
       "      <th>Hospital_type_code</th>\n",
       "      <th>City_Code_Hospital</th>\n",
       "      <th>Hospital_region_code</th>\n",
       "      <th>Available Extra Rooms in Hospital</th>\n",
       "      <th>Department</th>\n",
       "      <th>Ward_Type</th>\n",
       "      <th>Ward_Facility_Code</th>\n",
       "      <th>Bed Grade</th>\n",
       "      <th>patientid</th>\n",
       "      <th>City_Code_Patient</th>\n",
       "      <th>Type of Admission</th>\n",
       "      <th>Severity of Illness</th>\n",
       "      <th>Visitors with Patient</th>\n",
       "      <th>Age</th>\n",
       "      <th>Admission_Deposit</th>\n",
       "      <th>Stay</th>\n",
       "    </tr>\n",
       "  </thead>\n",
       "  <tbody>\n",
       "    <tr>\n",
       "      <th>0</th>\n",
       "      <td>1</td>\n",
       "      <td>8</td>\n",
       "      <td>c</td>\n",
       "      <td>3</td>\n",
       "      <td>Z</td>\n",
       "      <td>3</td>\n",
       "      <td>radiotherapy</td>\n",
       "      <td>R</td>\n",
       "      <td>F</td>\n",
       "      <td>2.0</td>\n",
       "      <td>31397</td>\n",
       "      <td>7.0</td>\n",
       "      <td>Emergency</td>\n",
       "      <td>Extreme</td>\n",
       "      <td>2</td>\n",
       "      <td>51-60</td>\n",
       "      <td>4911.0</td>\n",
       "      <td>0-10</td>\n",
       "    </tr>\n",
       "    <tr>\n",
       "      <th>1</th>\n",
       "      <td>2</td>\n",
       "      <td>2</td>\n",
       "      <td>c</td>\n",
       "      <td>5</td>\n",
       "      <td>Z</td>\n",
       "      <td>2</td>\n",
       "      <td>radiotherapy</td>\n",
       "      <td>S</td>\n",
       "      <td>F</td>\n",
       "      <td>2.0</td>\n",
       "      <td>31397</td>\n",
       "      <td>7.0</td>\n",
       "      <td>Trauma</td>\n",
       "      <td>Extreme</td>\n",
       "      <td>2</td>\n",
       "      <td>51-60</td>\n",
       "      <td>5954.0</td>\n",
       "      <td>41-50</td>\n",
       "    </tr>\n",
       "    <tr>\n",
       "      <th>2</th>\n",
       "      <td>3</td>\n",
       "      <td>10</td>\n",
       "      <td>e</td>\n",
       "      <td>1</td>\n",
       "      <td>X</td>\n",
       "      <td>2</td>\n",
       "      <td>anesthesia</td>\n",
       "      <td>S</td>\n",
       "      <td>E</td>\n",
       "      <td>2.0</td>\n",
       "      <td>31397</td>\n",
       "      <td>7.0</td>\n",
       "      <td>Trauma</td>\n",
       "      <td>Extreme</td>\n",
       "      <td>2</td>\n",
       "      <td>51-60</td>\n",
       "      <td>4745.0</td>\n",
       "      <td>31-40</td>\n",
       "    </tr>\n",
       "    <tr>\n",
       "      <th>3</th>\n",
       "      <td>4</td>\n",
       "      <td>26</td>\n",
       "      <td>b</td>\n",
       "      <td>2</td>\n",
       "      <td>Y</td>\n",
       "      <td>2</td>\n",
       "      <td>radiotherapy</td>\n",
       "      <td>R</td>\n",
       "      <td>D</td>\n",
       "      <td>2.0</td>\n",
       "      <td>31397</td>\n",
       "      <td>7.0</td>\n",
       "      <td>Trauma</td>\n",
       "      <td>Extreme</td>\n",
       "      <td>2</td>\n",
       "      <td>51-60</td>\n",
       "      <td>7272.0</td>\n",
       "      <td>41-50</td>\n",
       "    </tr>\n",
       "    <tr>\n",
       "      <th>4</th>\n",
       "      <td>5</td>\n",
       "      <td>26</td>\n",
       "      <td>b</td>\n",
       "      <td>2</td>\n",
       "      <td>Y</td>\n",
       "      <td>2</td>\n",
       "      <td>radiotherapy</td>\n",
       "      <td>S</td>\n",
       "      <td>D</td>\n",
       "      <td>2.0</td>\n",
       "      <td>31397</td>\n",
       "      <td>7.0</td>\n",
       "      <td>Trauma</td>\n",
       "      <td>Extreme</td>\n",
       "      <td>2</td>\n",
       "      <td>51-60</td>\n",
       "      <td>5558.0</td>\n",
       "      <td>41-50</td>\n",
       "    </tr>\n",
       "  </tbody>\n",
       "</table>\n",
       "</div>"
      ],
      "text/plain": [
       "   case_id  Hospital_code Hospital_type_code  City_Code_Hospital  \\\n",
       "0        1              8                  c                   3   \n",
       "1        2              2                  c                   5   \n",
       "2        3             10                  e                   1   \n",
       "3        4             26                  b                   2   \n",
       "4        5             26                  b                   2   \n",
       "\n",
       "  Hospital_region_code  Available Extra Rooms in Hospital    Department  \\\n",
       "0                    Z                                  3  radiotherapy   \n",
       "1                    Z                                  2  radiotherapy   \n",
       "2                    X                                  2    anesthesia   \n",
       "3                    Y                                  2  radiotherapy   \n",
       "4                    Y                                  2  radiotherapy   \n",
       "\n",
       "  Ward_Type Ward_Facility_Code  Bed Grade  patientid  City_Code_Patient  \\\n",
       "0         R                  F        2.0      31397                7.0   \n",
       "1         S                  F        2.0      31397                7.0   \n",
       "2         S                  E        2.0      31397                7.0   \n",
       "3         R                  D        2.0      31397                7.0   \n",
       "4         S                  D        2.0      31397                7.0   \n",
       "\n",
       "  Type of Admission Severity of Illness  Visitors with Patient    Age  \\\n",
       "0         Emergency             Extreme                      2  51-60   \n",
       "1            Trauma             Extreme                      2  51-60   \n",
       "2            Trauma             Extreme                      2  51-60   \n",
       "3            Trauma             Extreme                      2  51-60   \n",
       "4            Trauma             Extreme                      2  51-60   \n",
       "\n",
       "   Admission_Deposit   Stay  \n",
       "0             4911.0   0-10  \n",
       "1             5954.0  41-50  \n",
       "2             4745.0  31-40  \n",
       "3             7272.0  41-50  \n",
       "4             5558.0  41-50  "
      ]
     },
     "execution_count": 3,
     "metadata": {},
     "output_type": "execute_result"
    }
   ],
   "source": [
    "df.head()"
   ]
  },
  {
   "cell_type": "code",
   "execution_count": 4,
   "metadata": {},
   "outputs": [
    {
     "name": "stdout",
     "output_type": "stream",
     "text": [
      "<class 'pandas.core.frame.DataFrame'>\n",
      "RangeIndex: 318438 entries, 0 to 318437\n",
      "Data columns (total 18 columns):\n",
      " #   Column                             Non-Null Count   Dtype  \n",
      "---  ------                             --------------   -----  \n",
      " 0   case_id                            318438 non-null  int64  \n",
      " 1   Hospital_code                      318438 non-null  int64  \n",
      " 2   Hospital_type_code                 318438 non-null  object \n",
      " 3   City_Code_Hospital                 318438 non-null  int64  \n",
      " 4   Hospital_region_code               318438 non-null  object \n",
      " 5   Available Extra Rooms in Hospital  318438 non-null  int64  \n",
      " 6   Department                         318438 non-null  object \n",
      " 7   Ward_Type                          318438 non-null  object \n",
      " 8   Ward_Facility_Code                 318438 non-null  object \n",
      " 9   Bed Grade                          318325 non-null  float64\n",
      " 10  patientid                          318438 non-null  int64  \n",
      " 11  City_Code_Patient                  313906 non-null  float64\n",
      " 12  Type of Admission                  318438 non-null  object \n",
      " 13  Severity of Illness                318438 non-null  object \n",
      " 14  Visitors with Patient              318438 non-null  int64  \n",
      " 15  Age                                318438 non-null  object \n",
      " 16  Admission_Deposit                  318438 non-null  float64\n",
      " 17  Stay                               318438 non-null  object \n",
      "dtypes: float64(3), int64(6), object(9)\n",
      "memory usage: 43.7+ MB\n"
     ]
    }
   ],
   "source": [
    "df.info()"
   ]
  },
  {
   "cell_type": "code",
   "execution_count": 5,
   "metadata": {},
   "outputs": [
    {
     "data": {
      "text/plain": [
       "11"
      ]
     },
     "execution_count": 5,
     "metadata": {},
     "output_type": "execute_result"
    }
   ],
   "source": [
    "df['Stay'].nunique()"
   ]
  },
  {
   "cell_type": "code",
   "execution_count": 6,
   "metadata": {},
   "outputs": [
    {
     "data": {
      "text/plain": [
       "array(['0-10', '41-50', '31-40', '11-20', '51-60', '21-30', '71-80',\n",
       "       'More than 100 Days', '81-90', '61-70', '91-100'], dtype=object)"
      ]
     },
     "execution_count": 6,
     "metadata": {},
     "output_type": "execute_result"
    }
   ],
   "source": [
    "df['Stay'].unique()"
   ]
  },
  {
   "cell_type": "code",
   "execution_count": 7,
   "metadata": {},
   "outputs": [
    {
     "data": {
      "text/plain": [
       "<AxesSubplot:xlabel='Stay', ylabel='count'>"
      ]
     },
     "execution_count": 7,
     "metadata": {},
     "output_type": "execute_result"
    },
    {
     "data": {
      "image/png": "[encoded data removed]",
      "text/plain": [
       "<Figure size 1080x432 with 1 Axes>"
      ]
     },
     "metadata": {
      "needs_background": "light"
     },
     "output_type": "display_data"
    }
   ],
   "source": [
    "plt.figure(figsize=(15,6))\n",
    "sns.countplot(x='Stay',data=df)"
   ]
  },
  {
   "cell_type": "markdown",
   "metadata": {},
   "source": [
    "# DROPPING SOME UNNECCESSARY COLUMNS"
   ]
  },
  {
   "cell_type": "code",
   "execution_count": 8,
   "metadata": {},
   "outputs": [],
   "source": [
    "df.drop(['case_id','Hospital_code'],axis=1,inplace=True)"
   ]
  },
  {
   "cell_type": "markdown",
   "metadata": {},
   "source": [
    "# make a function and create another column as 'stay_category'(number it from 1 to 11)...make it int..then use df.corr()"
   ]
  },
  {
   "cell_type": "code",
   "execution_count": 9,
   "metadata": {},
   "outputs": [],
   "source": [
    "def stay_cat_encoder(x):\n",
    "    if x == '0-10':\n",
    "        return 0\n",
    "    elif x == '11-20':\n",
    "        return 1\n",
    "    elif x == '21-30':\n",
    "        return 2\n",
    "    elif x == '31-40':\n",
    "        return 3\n",
    "    elif x == '41-50':\n",
    "        return 4\n",
    "    elif x == '51-60':\n",
    "        return 5\n",
    "    elif x == '61-70':\n",
    "        return 6\n",
    "    elif x == '71-80':\n",
    "        return 7\n",
    "    elif x == '81-90':\n",
    "        return 8\n",
    "    elif x == '91-100':\n",
    "        return 9\n",
    "    elif x == 'More than 100 Days':\n",
    "        return 10"
   ]
  },
  {
   "cell_type": "code",
   "execution_count": 10,
   "metadata": {},
   "outputs": [],
   "source": [
    "df['Stay_cat'] = df['Stay'].apply(stay_cat_encoder)"
   ]
  },
  {
   "cell_type": "code",
   "execution_count": 11,
   "metadata": {},
   "outputs": [
    {
     "data": {
      "text/plain": [
       "Available Extra Rooms in Hospital   -0.121120\n",
       "Admission_Deposit                   -0.052077\n",
       "City_Code_Patient                   -0.009704\n",
       "patientid                            0.001125\n",
       "City_Code_Hospital                   0.006381\n",
       "Bed Grade                            0.025741\n",
       "Visitors with Patient                0.537537\n",
       "Name: Stay_cat, dtype: float64"
      ]
     },
     "execution_count": 11,
     "metadata": {},
     "output_type": "execute_result"
    }
   ],
   "source": [
    "df.corr()['Stay_cat'].sort_values()[:-1]"
   ]
  },
  {
   "cell_type": "code",
   "execution_count": 12,
   "metadata": {},
   "outputs": [
    {
     "data": {
      "text/html": [
       "<div>\n",
       "<style scoped>\n",
       "    .dataframe tbody tr th:only-of-type {\n",
       "        vertical-align: middle;\n",
       "    }\n",
       "\n",
       "    .dataframe tbody tr th {\n",
       "        vertical-align: top;\n",
       "    }\n",
       "\n",
       "    .dataframe thead th {\n",
       "        text-align: right;\n",
       "    }\n",
       "</style>\n",
       "<table border=\"1\" class=\"dataframe\">\n",
       "  <thead>\n",
       "    <tr style=\"text-align: right;\">\n",
       "      <th></th>\n",
       "      <th>Hospital_type_code</th>\n",
       "      <th>City_Code_Hospital</th>\n",
       "      <th>Hospital_region_code</th>\n",
       "      <th>Available Extra Rooms in Hospital</th>\n",
       "      <th>Department</th>\n",
       "      <th>Ward_Type</th>\n",
       "      <th>Ward_Facility_Code</th>\n",
       "      <th>Bed Grade</th>\n",
       "      <th>patientid</th>\n",
       "      <th>City_Code_Patient</th>\n",
       "      <th>Type of Admission</th>\n",
       "      <th>Severity of Illness</th>\n",
       "      <th>Visitors with Patient</th>\n",
       "      <th>Age</th>\n",
       "      <th>Admission_Deposit</th>\n",
       "      <th>Stay</th>\n",
       "      <th>Stay_cat</th>\n",
       "    </tr>\n",
       "  </thead>\n",
       "  <tbody>\n",
       "    <tr>\n",
       "      <th>0</th>\n",
       "      <td>c</td>\n",
       "      <td>3</td>\n",
       "      <td>Z</td>\n",
       "      <td>3</td>\n",
       "      <td>radiotherapy</td>\n",
       "      <td>R</td>\n",
       "      <td>F</td>\n",
       "      <td>2.0</td>\n",
       "      <td>31397</td>\n",
       "      <td>7.0</td>\n",
       "      <td>Emergency</td>\n",
       "      <td>Extreme</td>\n",
       "      <td>2</td>\n",
       "      <td>51-60</td>\n",
       "      <td>4911.0</td>\n",
       "      <td>0-10</td>\n",
       "      <td>0</td>\n",
       "    </tr>\n",
       "    <tr>\n",
       "      <th>1</th>\n",
       "      <td>c</td>\n",
       "      <td>5</td>\n",
       "      <td>Z</td>\n",
       "      <td>2</td>\n",
       "      <td>radiotherapy</td>\n",
       "      <td>S</td>\n",
       "      <td>F</td>\n",
       "      <td>2.0</td>\n",
       "      <td>31397</td>\n",
       "      <td>7.0</td>\n",
       "      <td>Trauma</td>\n",
       "      <td>Extreme</td>\n",
       "      <td>2</td>\n",
       "      <td>51-60</td>\n",
       "      <td>5954.0</td>\n",
       "      <td>41-50</td>\n",
       "      <td>4</td>\n",
       "    </tr>\n",
       "    <tr>\n",
       "      <th>2</th>\n",
       "      <td>e</td>\n",
       "      <td>1</td>\n",
       "      <td>X</td>\n",
       "      <td>2</td>\n",
       "      <td>anesthesia</td>\n",
       "      <td>S</td>\n",
       "      <td>E</td>\n",
       "      <td>2.0</td>\n",
       "      <td>31397</td>\n",
       "      <td>7.0</td>\n",
       "      <td>Trauma</td>\n",
       "      <td>Extreme</td>\n",
       "      <td>2</td>\n",
       "      <td>51-60</td>\n",
       "      <td>4745.0</td>\n",
       "      <td>31-40</td>\n",
       "      <td>3</td>\n",
       "    </tr>\n",
       "    <tr>\n",
       "      <th>3</th>\n",
       "      <td>b</td>\n",
       "      <td>2</td>\n",
       "      <td>Y</td>\n",
       "      <td>2</td>\n",
       "      <td>radiotherapy</td>\n",
       "      <td>R</td>\n",
       "      <td>D</td>\n",
       "      <td>2.0</td>\n",
       "      <td>31397</td>\n",
       "      <td>7.0</td>\n",
       "      <td>Trauma</td>\n",
       "      <td>Extreme</td>\n",
       "      <td>2</td>\n",
       "      <td>51-60</td>\n",
       "      <td>7272.0</td>\n",
       "      <td>41-50</td>\n",
       "      <td>4</td>\n",
       "    </tr>\n",
       "    <tr>\n",
       "      <th>4</th>\n",
       "      <td>b</td>\n",
       "      <td>2</td>\n",
       "      <td>Y</td>\n",
       "      <td>2</td>\n",
       "      <td>radiotherapy</td>\n",
       "      <td>S</td>\n",
       "      <td>D</td>\n",
       "      <td>2.0</td>\n",
       "      <td>31397</td>\n",
       "      <td>7.0</td>\n",
       "      <td>Trauma</td>\n",
       "      <td>Extreme</td>\n",
       "      <td>2</td>\n",
       "      <td>51-60</td>\n",
       "      <td>5558.0</td>\n",
       "      <td>41-50</td>\n",
       "      <td>4</td>\n",
       "    </tr>\n",
       "  </tbody>\n",
       "</table>\n",
       "</div>"
      ],
      "text/plain": [
       "  Hospital_type_code  City_Code_Hospital Hospital_region_code  \\\n",
       "0                  c                   3                    Z   \n",
       "1                  c                   5                    Z   \n",
       "2                  e                   1                    X   \n",
       "3                  b                   2                    Y   \n",
       "4                  b                   2                    Y   \n",
       "\n",
       "   Available Extra Rooms in Hospital    Department Ward_Type  \\\n",
       "0                                  3  radiotherapy         R   \n",
       "1                                  2  radiotherapy         S   \n",
       "2                                  2    anesthesia         S   \n",
       "3                                  2  radiotherapy         R   \n",
       "4                                  2  radiotherapy         S   \n",
       "\n",
       "  Ward_Facility_Code  Bed Grade  patientid  City_Code_Patient  \\\n",
       "0                  F        2.0      31397                7.0   \n",
       "1                  F        2.0      31397                7.0   \n",
       "2                  E        2.0      31397                7.0   \n",
       "3                  D        2.0      31397                7.0   \n",
       "4                  D        2.0      31397                7.0   \n",
       "\n",
       "  Type of Admission Severity of Illness  Visitors with Patient    Age  \\\n",
       "0         Emergency             Extreme                      2  51-60   \n",
       "1            Trauma             Extreme                      2  51-60   \n",
       "2            Trauma             Extreme                      2  51-60   \n",
       "3            Trauma             Extreme                      2  51-60   \n",
       "4            Trauma             Extreme                      2  51-60   \n",
       "\n",
       "   Admission_Deposit   Stay  Stay_cat  \n",
       "0             4911.0   0-10         0  \n",
       "1             5954.0  41-50         4  \n",
       "2             4745.0  31-40         3  \n",
       "3             7272.0  41-50         4  \n",
       "4             5558.0  41-50         4  "
      ]
     },
     "execution_count": 12,
     "metadata": {},
     "output_type": "execute_result"
    }
   ],
   "source": [
    "df.head()"
   ]
  },
  {
   "cell_type": "markdown",
   "metadata": {},
   "source": [
    "# Let's get rid of unneccessary columns\n",
    "# City_Code_Patient , City_Code_Hospital, patientid "
   ]
  },
  {
   "cell_type": "code",
   "execution_count": 13,
   "metadata": {},
   "outputs": [],
   "source": [
    "df.drop(['City_Code_Hospital','patientid','City_Code_Patient'],axis=1,inplace=True)"
   ]
  },
  {
   "cell_type": "code",
   "execution_count": 14,
   "metadata": {},
   "outputs": [
    {
     "data": {
      "text/html": [
       "<div>\n",
       "<style scoped>\n",
       "    .dataframe tbody tr th:only-of-type {\n",
       "        vertical-align: middle;\n",
       "    }\n",
       "\n",
       "    .dataframe tbody tr th {\n",
       "        vertical-align: top;\n",
       "    }\n",
       "\n",
       "    .dataframe thead th {\n",
       "        text-align: right;\n",
       "    }\n",
       "</style>\n",
       "<table border=\"1\" class=\"dataframe\">\n",
       "  <thead>\n",
       "    <tr style=\"text-align: right;\">\n",
       "      <th></th>\n",
       "      <th>Hospital_type_code</th>\n",
       "      <th>Hospital_region_code</th>\n",
       "      <th>Available Extra Rooms in Hospital</th>\n",
       "      <th>Department</th>\n",
       "      <th>Ward_Type</th>\n",
       "      <th>Ward_Facility_Code</th>\n",
       "      <th>Bed Grade</th>\n",
       "      <th>Type of Admission</th>\n",
       "      <th>Severity of Illness</th>\n",
       "      <th>Visitors with Patient</th>\n",
       "      <th>Age</th>\n",
       "      <th>Admission_Deposit</th>\n",
       "      <th>Stay</th>\n",
       "      <th>Stay_cat</th>\n",
       "    </tr>\n",
       "  </thead>\n",
       "  <tbody>\n",
       "    <tr>\n",
       "      <th>0</th>\n",
       "      <td>c</td>\n",
       "      <td>Z</td>\n",
       "      <td>3</td>\n",
       "      <td>radiotherapy</td>\n",
       "      <td>R</td>\n",
       "      <td>F</td>\n",
       "      <td>2.0</td>\n",
       "      <td>Emergency</td>\n",
       "      <td>Extreme</td>\n",
       "      <td>2</td>\n",
       "      <td>51-60</td>\n",
       "      <td>4911.0</td>\n",
       "      <td>0-10</td>\n",
       "      <td>0</td>\n",
       "    </tr>\n",
       "    <tr>\n",
       "      <th>1</th>\n",
       "      <td>c</td>\n",
       "      <td>Z</td>\n",
       "      <td>2</td>\n",
       "      <td>radiotherapy</td>\n",
       "      <td>S</td>\n",
       "      <td>F</td>\n",
       "      <td>2.0</td>\n",
       "      <td>Trauma</td>\n",
       "      <td>Extreme</td>\n",
       "      <td>2</td>\n",
       "      <td>51-60</td>\n",
       "      <td>5954.0</td>\n",
       "      <td>41-50</td>\n",
       "      <td>4</td>\n",
       "    </tr>\n",
       "    <tr>\n",
       "      <th>2</th>\n",
       "      <td>e</td>\n",
       "      <td>X</td>\n",
       "      <td>2</td>\n",
       "      <td>anesthesia</td>\n",
       "      <td>S</td>\n",
       "      <td>E</td>\n",
       "      <td>2.0</td>\n",
       "      <td>Trauma</td>\n",
       "      <td>Extreme</td>\n",
       "      <td>2</td>\n",
       "      <td>51-60</td>\n",
       "      <td>4745.0</td>\n",
       "      <td>31-40</td>\n",
       "      <td>3</td>\n",
       "    </tr>\n",
       "    <tr>\n",
       "      <th>3</th>\n",
       "      <td>b</td>\n",
       "      <td>Y</td>\n",
       "      <td>2</td>\n",
       "      <td>radiotherapy</td>\n",
       "      <td>R</td>\n",
       "      <td>D</td>\n",
       "      <td>2.0</td>\n",
       "      <td>Trauma</td>\n",
       "      <td>Extreme</td>\n",
       "      <td>2</td>\n",
       "      <td>51-60</td>\n",
       "      <td>7272.0</td>\n",
       "      <td>41-50</td>\n",
       "      <td>4</td>\n",
       "    </tr>\n",
       "    <tr>\n",
       "      <th>4</th>\n",
       "      <td>b</td>\n",
       "      <td>Y</td>\n",
       "      <td>2</td>\n",
       "      <td>radiotherapy</td>\n",
       "      <td>S</td>\n",
       "      <td>D</td>\n",
       "      <td>2.0</td>\n",
       "      <td>Trauma</td>\n",
       "      <td>Extreme</td>\n",
       "      <td>2</td>\n",
       "      <td>51-60</td>\n",
       "      <td>5558.0</td>\n",
       "      <td>41-50</td>\n",
       "      <td>4</td>\n",
       "    </tr>\n",
       "  </tbody>\n",
       "</table>\n",
       "</div>"
      ],
      "text/plain": [
       "  Hospital_type_code Hospital_region_code  Available Extra Rooms in Hospital  \\\n",
       "0                  c                    Z                                  3   \n",
       "1                  c                    Z                                  2   \n",
       "2                  e                    X                                  2   \n",
       "3                  b                    Y                                  2   \n",
       "4                  b                    Y                                  2   \n",
       "\n",
       "     Department Ward_Type Ward_Facility_Code  Bed Grade Type of Admission  \\\n",
       "0  radiotherapy         R                  F        2.0         Emergency   \n",
       "1  radiotherapy         S                  F        2.0            Trauma   \n",
       "2    anesthesia         S                  E        2.0            Trauma   \n",
       "3  radiotherapy         R                  D        2.0            Trauma   \n",
       "4  radiotherapy         S                  D        2.0            Trauma   \n",
       "\n",
       "  Severity of Illness  Visitors with Patient    Age  Admission_Deposit   Stay  \\\n",
       "0             Extreme                      2  51-60             4911.0   0-10   \n",
       "1             Extreme                      2  51-60             5954.0  41-50   \n",
       "2             Extreme                      2  51-60             4745.0  31-40   \n",
       "3             Extreme                      2  51-60             7272.0  41-50   \n",
       "4             Extreme                      2  51-60             5558.0  41-50   \n",
       "\n",
       "   Stay_cat  \n",
       "0         0  \n",
       "1         4  \n",
       "2         3  \n",
       "3         4  \n",
       "4         4  "
      ]
     },
     "execution_count": 14,
     "metadata": {},
     "output_type": "execute_result"
    }
   ],
   "source": [
    "df.head()"
   ]
  },
  {
   "cell_type": "code",
   "execution_count": 15,
   "metadata": {},
   "outputs": [
    {
     "data": {
      "text/plain": [
       "7"
      ]
     },
     "execution_count": 15,
     "metadata": {},
     "output_type": "execute_result"
    }
   ],
   "source": [
    "df['Hospital_type_code'].nunique()"
   ]
  },
  {
   "cell_type": "code",
   "execution_count": 16,
   "metadata": {},
   "outputs": [
    {
     "data": {
      "text/plain": [
       "array(['c', 'e', 'b', 'a', 'f', 'd', 'g'], dtype=object)"
      ]
     },
     "execution_count": 16,
     "metadata": {},
     "output_type": "execute_result"
    }
   ],
   "source": [
    "df['Hospital_type_code'].unique()"
   ]
  },
  {
   "cell_type": "code",
   "execution_count": 17,
   "metadata": {},
   "outputs": [
    {
     "data": {
      "text/plain": [
       "array(['Z', 'X', 'Y'], dtype=object)"
      ]
     },
     "execution_count": 17,
     "metadata": {},
     "output_type": "execute_result"
    }
   ],
   "source": [
    "df['Hospital_region_code'].unique()"
   ]
  },
  {
   "cell_type": "code",
   "execution_count": 18,
   "metadata": {},
   "outputs": [
    {
     "data": {
      "text/plain": [
       "Hospital_type_code                     0\n",
       "Hospital_region_code                   0\n",
       "Available Extra Rooms in Hospital      0\n",
       "Department                             0\n",
       "Ward_Type                              0\n",
       "Ward_Facility_Code                     0\n",
       "Bed Grade                            113\n",
       "Type of Admission                      0\n",
       "Severity of Illness                    0\n",
       "Visitors with Patient                  0\n",
       "Age                                    0\n",
       "Admission_Deposit                      0\n",
       "Stay                                   0\n",
       "Stay_cat                               0\n",
       "dtype: int64"
      ]
     },
     "execution_count": 18,
     "metadata": {},
     "output_type": "execute_result"
    }
   ],
   "source": [
    "df.isnull().sum()"
   ]
  },
  {
   "cell_type": "markdown",
   "metadata": {},
   "source": [
    "# Bed Grade has some missing values...let's try filling those..since only less than 0.4% of data is missing we can fit missing values with the median/mean as it won't affect accuracy much"
   ]
  },
  {
   "cell_type": "code",
   "execution_count": 19,
   "metadata": {},
   "outputs": [
    {
     "data": {
      "text/plain": [
       "0.03549831147412236"
      ]
     },
     "execution_count": 19,
     "metadata": {},
     "output_type": "execute_result"
    }
   ],
   "source": [
    "11300/(len(df)-113) # percentage of missing data in Bed Grade column"
   ]
  },
  {
   "cell_type": "code",
   "execution_count": 20,
   "metadata": {},
   "outputs": [
    {
     "data": {
      "text/plain": [
       "3.0"
      ]
     },
     "execution_count": 20,
     "metadata": {},
     "output_type": "execute_result"
    }
   ],
   "source": [
    "df['Bed Grade'].median()"
   ]
  },
  {
   "cell_type": "markdown",
   "metadata": {},
   "source": [
    "# we'll go with median"
   ]
  },
  {
   "cell_type": "code",
   "execution_count": 21,
   "metadata": {},
   "outputs": [],
   "source": [
    "def imputer_Bed_Grade(x):\n",
    "    if pd.isnull(x):\n",
    "        return 3\n",
    "    else:\n",
    "        return x"
   ]
  },
  {
   "cell_type": "code",
   "execution_count": 22,
   "metadata": {},
   "outputs": [],
   "source": [
    "df['Bed Grade'] = df['Bed Grade'].apply(imputer_Bed_Grade)"
   ]
  },
  {
   "cell_type": "code",
   "execution_count": 23,
   "metadata": {},
   "outputs": [
    {
     "data": {
      "text/plain": [
       "Hospital_type_code                   0\n",
       "Hospital_region_code                 0\n",
       "Available Extra Rooms in Hospital    0\n",
       "Department                           0\n",
       "Ward_Type                            0\n",
       "Ward_Facility_Code                   0\n",
       "Bed Grade                            0\n",
       "Type of Admission                    0\n",
       "Severity of Illness                  0\n",
       "Visitors with Patient                0\n",
       "Age                                  0\n",
       "Admission_Deposit                    0\n",
       "Stay                                 0\n",
       "Stay_cat                             0\n",
       "dtype: int64"
      ]
     },
     "execution_count": 23,
     "metadata": {},
     "output_type": "execute_result"
    }
   ],
   "source": [
    "df.isnull().sum()"
   ]
  },
  {
   "cell_type": "code",
   "execution_count": 24,
   "metadata": {},
   "outputs": [
    {
     "data": {
      "text/plain": [
       "array([2., 3., 4., 1.])"
      ]
     },
     "execution_count": 24,
     "metadata": {},
     "output_type": "execute_result"
    }
   ],
   "source": [
    "df['Bed Grade'].unique()"
   ]
  },
  {
   "cell_type": "markdown",
   "metadata": {},
   "source": [
    "# MISSING DATA HAS BEEN TAKEN CARE OF"
   ]
  },
  {
   "cell_type": "code",
   "execution_count": 25,
   "metadata": {},
   "outputs": [
    {
     "data": {
      "text/plain": [
       "10"
      ]
     },
     "execution_count": 25,
     "metadata": {},
     "output_type": "execute_result"
    }
   ],
   "source": [
    "df['Age'].nunique()"
   ]
  },
  {
   "cell_type": "code",
   "execution_count": 26,
   "metadata": {},
   "outputs": [
    {
     "data": {
      "text/plain": [
       "array(['51-60', '71-80', '31-40', '41-50', '81-90', '61-70', '21-30',\n",
       "       '11-20', '0-10', '91-100'], dtype=object)"
      ]
     },
     "execution_count": 26,
     "metadata": {},
     "output_type": "execute_result"
    }
   ],
   "source": [
    "df['Age'].unique()"
   ]
  },
  {
   "cell_type": "code",
   "execution_count": 27,
   "metadata": {},
   "outputs": [],
   "source": [
    "def Age_cat_encoder(x):\n",
    "    if x == '0-10':\n",
    "        return 1\n",
    "    elif x == '11-20':\n",
    "        return 2\n",
    "    elif x == '21-30':\n",
    "        return 3\n",
    "    elif x == '31-40':\n",
    "        return 4\n",
    "    elif x == '41-50':\n",
    "        return 5\n",
    "    elif x == '51-60':\n",
    "        return 6\n",
    "    elif x == '61-70':\n",
    "        return 7\n",
    "    elif x == '71-80':\n",
    "        return 8\n",
    "    elif x == '81-90':\n",
    "        return 9\n",
    "    elif x == '91-100':\n",
    "        return 10"
   ]
  },
  {
   "cell_type": "code",
   "execution_count": 28,
   "metadata": {},
   "outputs": [],
   "source": [
    "df['Age_cat'] = df['Age'].apply(Age_cat_encoder)"
   ]
  },
  {
   "cell_type": "code",
   "execution_count": 29,
   "metadata": {},
   "outputs": [
    {
     "data": {
      "text/plain": [
       "Available Extra Rooms in Hospital   -0.121120\n",
       "Admission_Deposit                   -0.052077\n",
       "Bed Grade                            0.025761\n",
       "Age_cat                              0.094163\n",
       "Visitors with Patient                0.537537\n",
       "Name: Stay_cat, dtype: float64"
      ]
     },
     "execution_count": 29,
     "metadata": {},
     "output_type": "execute_result"
    }
   ],
   "source": [
    "df.corr()['Stay_cat'].sort_values()[:-1]"
   ]
  },
  {
   "cell_type": "code",
   "execution_count": 30,
   "metadata": {},
   "outputs": [
    {
     "data": {
      "text/plain": [
       "Index(['Hospital_type_code', 'Hospital_region_code', 'Department', 'Ward_Type',\n",
       "       'Ward_Facility_Code', 'Type of Admission', 'Severity of Illness', 'Age',\n",
       "       'Stay'],\n",
       "      dtype='object')"
      ]
     },
     "execution_count": 30,
     "metadata": {},
     "output_type": "execute_result"
    }
   ],
   "source": [
    "df.select_dtypes(include=['object']).columns"
   ]
  },
  {
   "cell_type": "code",
   "execution_count": 31,
   "metadata": {},
   "outputs": [],
   "source": [
    "from sklearn.preprocessing import LabelEncoder"
   ]
  },
  {
   "cell_type": "code",
   "execution_count": 32,
   "metadata": {},
   "outputs": [],
   "source": [
    "le = LabelEncoder()"
   ]
  },
  {
   "cell_type": "code",
   "execution_count": 33,
   "metadata": {},
   "outputs": [],
   "source": [
    "df3 = df.copy()"
   ]
  },
  {
   "cell_type": "code",
   "execution_count": 34,
   "metadata": {},
   "outputs": [],
   "source": [
    "df3.drop('Age',axis=1,inplace=True)"
   ]
  },
  {
   "cell_type": "code",
   "execution_count": 35,
   "metadata": {},
   "outputs": [
    {
     "data": {
      "text/plain": [
       "Index(['Hospital_type_code', 'Hospital_region_code', 'Department', 'Ward_Type',\n",
       "       'Ward_Facility_Code', 'Type of Admission', 'Severity of Illness',\n",
       "       'Stay'],\n",
       "      dtype='object')"
      ]
     },
     "execution_count": 35,
     "metadata": {},
     "output_type": "execute_result"
    }
   ],
   "source": [
    "df3.select_dtypes(include=['object']).columns"
   ]
  },
  {
   "cell_type": "markdown",
   "metadata": {},
   "source": [
    "# NOW LET'S DO LABEL ENCODING OF ALL THESE OBJECT COLUMNS"
   ]
  },
  {
   "cell_type": "code",
   "execution_count": 36,
   "metadata": {},
   "outputs": [],
   "source": [
    "df3['Hospital_type_code'] = le.fit_transform(df3['Hospital_type_code'])\n",
    "df3['Hospital_region_code'] = le.fit_transform(df3['Hospital_region_code'])\n",
    "df3['Department'] = le.fit_transform(df3['Department'])\n",
    "df3['Ward_Type'] = le.fit_transform(df3['Ward_Type'])\n",
    "df3['Ward_Facility_Code'] = le.fit_transform(df3['Ward_Facility_Code'])\n",
    "df3['Type of Admission'] = le.fit_transform(df3['Type of Admission'])\n",
    "df3['Severity of Illness'] = le.fit_transform(df3['Severity of Illness'])"
   ]
  },
  {
   "cell_type": "code",
   "execution_count": 37,
   "metadata": {},
   "outputs": [
    {
     "name": "stdout",
     "output_type": "stream",
     "text": [
      "<class 'pandas.core.frame.DataFrame'>\n",
      "RangeIndex: 318438 entries, 0 to 318437\n",
      "Data columns (total 14 columns):\n",
      " #   Column                             Non-Null Count   Dtype  \n",
      "---  ------                             --------------   -----  \n",
      " 0   Hospital_type_code                 318438 non-null  int32  \n",
      " 1   Hospital_region_code               318438 non-null  int32  \n",
      " 2   Available Extra Rooms in Hospital  318438 non-null  int64  \n",
      " 3   Department                         318438 non-null  int32  \n",
      " 4   Ward_Type                          318438 non-null  int32  \n",
      " 5   Ward_Facility_Code                 318438 non-null  int32  \n",
      " 6   Bed Grade                          318438 non-null  float64\n",
      " 7   Type of Admission                  318438 non-null  int32  \n",
      " 8   Severity of Illness                318438 non-null  int32  \n",
      " 9   Visitors with Patient              318438 non-null  int64  \n",
      " 10  Admission_Deposit                  318438 non-null  float64\n",
      " 11  Stay                               318438 non-null  object \n",
      " 12  Stay_cat                           318438 non-null  int64  \n",
      " 13  Age_cat                            318438 non-null  int64  \n",
      "dtypes: float64(2), int32(7), int64(4), object(1)\n",
      "memory usage: 25.5+ MB\n"
     ]
    }
   ],
   "source": [
    "df3.info()"
   ]
  },
  {
   "cell_type": "code",
   "execution_count": 38,
   "metadata": {},
   "outputs": [
    {
     "data": {
      "text/plain": [
       "Available Extra Rooms in Hospital   -0.121120\n",
       "Admission_Deposit                   -0.052077\n",
       "Severity of Illness                 -0.031188\n",
       "Ward_Facility_Code                  -0.004552\n",
       "Hospital_region_code                 0.011905\n",
       "Type of Admission                    0.023617\n",
       "Bed Grade                            0.025761\n",
       "Department                           0.033287\n",
       "Hospital_type_code                   0.058592\n",
       "Age_cat                              0.094163\n",
       "Ward_Type                            0.185191\n",
       "Visitors with Patient                0.537537\n",
       "Name: Stay_cat, dtype: float64"
      ]
     },
     "execution_count": 38,
     "metadata": {},
     "output_type": "execute_result"
    }
   ],
   "source": [
    "df3.corr()['Stay_cat'].sort_values()[:-1]"
   ]
  },
  {
   "cell_type": "code",
   "execution_count": 39,
   "metadata": {},
   "outputs": [],
   "source": [
    "X = df3.drop(['Stay_cat','Stay'],axis=1)\n",
    "y = df3['Stay']"
   ]
  },
  {
   "cell_type": "code",
   "execution_count": 40,
   "metadata": {},
   "outputs": [],
   "source": [
    "from sklearn.model_selection import train_test_split\n",
    "X_train, X_test, y_train, y_test = train_test_split(X, y, test_size=0.33, random_state=42)"
   ]
  },
  {
   "cell_type": "code",
   "execution_count": 41,
   "metadata": {},
   "outputs": [],
   "source": [
    "from sklearn.preprocessing import StandardScaler\n",
    "sc = StandardScaler()"
   ]
  },
  {
   "cell_type": "code",
   "execution_count": 42,
   "metadata": {},
   "outputs": [],
   "source": [
    "X_train = sc.fit_transform(X_train)\n",
    "X_test = sc.transform(X_test)"
   ]
  },
  {
   "cell_type": "code",
   "execution_count": 43,
   "metadata": {},
   "outputs": [
    {
     "data": {
      "text/plain": [
       "(213353, 12)"
      ]
     },
     "execution_count": 43,
     "metadata": {},
     "output_type": "execute_result"
    }
   ],
   "source": [
    "X_train.shape"
   ]
  },
  {
   "cell_type": "markdown",
   "metadata": {},
   "source": [
    "# 1) LOGISTIC REGRESSION"
   ]
  },
  {
   "cell_type": "code",
   "execution_count": 44,
   "metadata": {},
   "outputs": [],
   "source": [
    "from sklearn.linear_model import LogisticRegression"
   ]
  },
  {
   "cell_type": "code",
   "execution_count": 45,
   "metadata": {},
   "outputs": [],
   "source": [
    "lr = LogisticRegression(fit_intercept=True,n_jobs=-1)"
   ]
  },
  {
   "cell_type": "code",
   "execution_count": 46,
   "metadata": {},
   "outputs": [
    {
     "data": {
      "text/plain": [
       "LogisticRegression(n_jobs=-1)"
      ]
     },
     "execution_count": 46,
     "metadata": {},
     "output_type": "execute_result"
    }
   ],
   "source": [
    "lr.fit(X_train,y_train)"
   ]
  },
  {
   "cell_type": "code",
   "execution_count": 47,
   "metadata": {},
   "outputs": [],
   "source": [
    "lr_pred = lr.predict(X_test)"
   ]
  },
  {
   "cell_type": "code",
   "execution_count": 48,
   "metadata": {},
   "outputs": [],
   "source": [
    "from sklearn.metrics import classification_report,confusion_matrix"
   ]
  },
  {
   "cell_type": "code",
   "execution_count": 49,
   "metadata": {},
   "outputs": [
    {
     "name": "stdout",
     "output_type": "stream",
     "text": [
      "[[  187  3535  3987   126     0    16     0     0     0     0     0]\n",
      " [   84 10013 13360  1213     0  1024     0     0     0     0     1]\n",
      " [   51  7944 19838   654     0   487     0     0     0     0    20]\n",
      " [   32  3591  7353  3483     0  3603     0     0     0     0    51]\n",
      " [   21   971  2225   300     0   297     0     0     1     0    31]\n",
      " [   19  1121  1700  3309     0  5393     0     0     0     0   119]\n",
      " [    4   172   432   115     0   162     0     0     0     0    24]\n",
      " [    5   296   337   959     0  1524     0     0     0     0   220]\n",
      " [    1    69    93   129     0  1204     0     0     0     0    98]\n",
      " [    2    58   105   262     0   347     0     0     0     0   127]\n",
      " [    9   111   134   204     0   983     0     0     0     0   739]]\n",
      "\n",
      "\n"
     ]
    },
    {
     "name": "stderr",
     "output_type": "stream",
     "text": [
      "C:\\Users\\HP\\anaconda3\\lib\\site-packages\\sklearn\\metrics\\_classification.py:1221: UndefinedMetricWarning: Precision and F-score are ill-defined and being set to 0.0 in labels with no predicted samples. Use `zero_division` parameter to control this behavior.\n",
      "  _warn_prf(average, modifier, msg_start, len(result))\n"
     ]
    },
    {
     "name": "stdout",
     "output_type": "stream",
     "text": [
      "                    precision    recall  f1-score   support\n",
      "\n",
      "              0-10       0.45      0.02      0.05      7851\n",
      "             11-20       0.36      0.39      0.37     25695\n",
      "             21-30       0.40      0.68      0.51     28994\n",
      "             31-40       0.32      0.19      0.24     18113\n",
      "             41-50       0.00      0.00      0.00      3846\n",
      "             51-60       0.36      0.46      0.40     11661\n",
      "             61-70       0.00      0.00      0.00       909\n",
      "             71-80       0.00      0.00      0.00      3341\n",
      "             81-90       0.00      0.00      0.00      1594\n",
      "            91-100       0.00      0.00      0.00       901\n",
      "More than 100 Days       0.52      0.34      0.41      2180\n",
      "\n",
      "          accuracy                           0.38    105085\n",
      "         macro avg       0.22      0.19      0.18    105085\n",
      "      weighted avg       0.34      0.38      0.33    105085\n",
      "\n"
     ]
    }
   ],
   "source": [
    "print(confusion_matrix(y_test,lr_pred))\n",
    "print('\\n')\n",
    "print(classification_report(y_test,lr_pred))"
   ]
  },
  {
   "cell_type": "markdown",
   "metadata": {},
   "source": [
    "# LR = 38% ; can't use thise model as this model couldn't calculate F-1 score properly"
   ]
  },
  {
   "cell_type": "markdown",
   "metadata": {},
   "source": [
    "# 2) RANDOM FOREST"
   ]
  },
  {
   "cell_type": "code",
   "execution_count": 50,
   "metadata": {},
   "outputs": [],
   "source": [
    "from sklearn.ensemble import RandomForestClassifier"
   ]
  },
  {
   "cell_type": "code",
   "execution_count": 51,
   "metadata": {},
   "outputs": [],
   "source": [
    "rf = RandomForestClassifier(n_estimators=100)"
   ]
  },
  {
   "cell_type": "code",
   "execution_count": 52,
   "metadata": {},
   "outputs": [
    {
     "data": {
      "text/plain": [
       "RandomForestClassifier(n_estimators=500)"
      ]
     },
     "execution_count": 52,
     "metadata": {},
     "output_type": "execute_result"
    }
   ],
   "source": [
    "rf.fit(X_train,y_train)"
   ]
  },
  {
   "cell_type": "code",
   "execution_count": 53,
   "metadata": {},
   "outputs": [],
   "source": [
    "rf_pred = rf.predict(X_test)"
   ]
  },
  {
   "cell_type": "code",
   "execution_count": 54,
   "metadata": {},
   "outputs": [
    {
     "name": "stdout",
     "output_type": "stream",
     "text": [
      "                    precision    recall  f1-score   support\n",
      "\n",
      "              0-10       0.24      0.19      0.21      7851\n",
      "             11-20       0.36      0.41      0.38     25695\n",
      "             21-30       0.40      0.47      0.43     28994\n",
      "             31-40       0.30      0.26      0.28     18113\n",
      "             41-50       0.07      0.03      0.05      3846\n",
      "             51-60       0.37      0.42      0.40     11661\n",
      "             61-70       0.03      0.01      0.02       909\n",
      "             71-80       0.18      0.09      0.12      3341\n",
      "             81-90       0.31      0.19      0.24      1594\n",
      "            91-100       0.14      0.05      0.07       901\n",
      "More than 100 Days       0.47      0.43      0.45      2180\n",
      "\n",
      "          accuracy                           0.35    105085\n",
      "         macro avg       0.26      0.23      0.24    105085\n",
      "      weighted avg       0.33      0.35      0.34    105085\n",
      "\n",
      "\n",
      "\n",
      "[[ 1465  3035  2527   533   113   117    24    19     5     5     8]\n",
      " [ 1752 10416  9134  2716   410  1013    68   114    29    19    24]\n",
      " [ 1526  9044 13519  3074   631   816   126    97    70    26    65]\n",
      " [  682  3651  5019  4791   360  3018    56   330    60    51    95]\n",
      " [  237   929  1552   565   134   321    14    32    17     5    40]\n",
      " [  222  1066  1201  2997   111  4920    30   514   276    85   239]\n",
      " [   49   182   275   152    22   144    12    17    18     6    32]\n",
      " [   59   255   248   765    18  1350     5   302    51    43   245]\n",
      " [   18    65    75   193     6   683     2    56   304     3   189]\n",
      " [   12    64    68   178     6   331     4    61     9    43   125]\n",
      " [   31    99    87   202    14   528     9   100   152    23   935]]\n"
     ]
    }
   ],
   "source": [
    "print(classification_report(y_test,rf_pred))\n",
    "print('\\n')\n",
    "print(confusion_matrix(y_test,rf_pred))"
   ]
  },
  {
   "cell_type": "markdown",
   "metadata": {},
   "source": [
    "# RF = 35% with n=100 (it is the same even when n=500)"
   ]
  },
  {
   "cell_type": "markdown",
   "metadata": {},
   "source": [
    "# 3) KNN"
   ]
  },
  {
   "cell_type": "code",
   "execution_count": 55,
   "metadata": {},
   "outputs": [],
   "source": [
    "from sklearn.neighbors import KNeighborsClassifier"
   ]
  },
  {
   "cell_type": "code",
   "execution_count": 56,
   "metadata": {},
   "outputs": [],
   "source": [
    "knn = KNeighborsClassifier(n_neighbors=100,n_jobs=-1)"
   ]
  },
  {
   "cell_type": "code",
   "execution_count": 57,
   "metadata": {},
   "outputs": [
    {
     "data": {
      "text/plain": [
       "KNeighborsClassifier(n_jobs=-1, n_neighbors=100)"
      ]
     },
     "execution_count": 57,
     "metadata": {},
     "output_type": "execute_result"
    }
   ],
   "source": [
    "knn.fit(X_train,y_train)"
   ]
  },
  {
   "cell_type": "code",
   "execution_count": 58,
   "metadata": {},
   "outputs": [
    {
     "name": "stderr",
     "output_type": "stream",
     "text": [
      "C:\\Users\\HP\\anaconda3\\lib\\site-packages\\sklearn\\metrics\\_classification.py:1221: UndefinedMetricWarning: Precision and F-score are ill-defined and being set to 0.0 in labels with no predicted samples. Use `zero_division` parameter to control this behavior.\n",
      "  _warn_prf(average, modifier, msg_start, len(result))\n"
     ]
    },
    {
     "name": "stdout",
     "output_type": "stream",
     "text": [
      "                    precision    recall  f1-score   support\n",
      "\n",
      "              0-10       0.41      0.05      0.09      7851\n",
      "             11-20       0.36      0.51      0.42     25695\n",
      "             21-30       0.39      0.63      0.48     28994\n",
      "             31-40       0.36      0.19      0.24     18113\n",
      "             41-50       0.00      0.00      0.00      3846\n",
      "             51-60       0.38      0.36      0.37     11661\n",
      "             61-70       0.00      0.00      0.00       909\n",
      "             71-80       0.11      0.00      0.00      3341\n",
      "             81-90       0.08      0.00      0.00      1594\n",
      "            91-100       0.00      0.00      0.00       901\n",
      "More than 100 Days       0.56      0.31      0.40      2180\n",
      "\n",
      "          accuracy                           0.38    105085\n",
      "         macro avg       0.24      0.19      0.18    105085\n",
      "      weighted avg       0.35      0.38      0.34    105085\n",
      "\n",
      "\n",
      "\n",
      "[[  404  4101  3239    75     0    32     0     0     0     0     0]\n",
      " [  224 13038 10820  1000     0   613     0     0     0     0     0]\n",
      " [  152  9768 18232   406     0   422     0     1     1     0    12]\n",
      " [  104  4897  7584  3359     0  2126     0     2     5     0    36]\n",
      " [   38  1083  2260   221     0   215     0     0     1     0    28]\n",
      " [   34  1839  2695  2762     0  4252     0     0     5     0    74]\n",
      " [    6   190   477    76     0   141     0     0     0     0    19]\n",
      " [   14   471   673   714     0  1284     0     1     3     0   181]\n",
      " [    7    92   104   297     0  1026     0     0     2     0    66]\n",
      " [    1   107   187   163     0   322     0     3     1     0   117]\n",
      " [   11   147   194   257     0   879     0     2     8     0   682]]\n"
     ]
    }
   ],
   "source": [
    "knn_pred = knn.predict(X_test)\n",
    "print(classification_report(y_test,knn_pred))\n",
    "print('\\n')\n",
    "print(confusion_matrix(y_test,knn_pred))"
   ]
  },
  {
   "cell_type": "markdown",
   "metadata": {},
   "source": [
    "# KNN ACCURACY = 38% with k=100"
   ]
  },
  {
   "cell_type": "markdown",
   "metadata": {},
   "source": [
    "# 3) CATBOOST"
   ]
  },
  {
   "cell_type": "code",
   "execution_count": 59,
   "metadata": {},
   "outputs": [
    {
     "name": "stdout",
     "output_type": "stream",
     "text": [
      "Learning rate set to 0.120201\n",
      "0:\tlearn: 2.2008269\ttest: 2.2006327\tbest: 2.2006327 (0)\ttotal: 474ms\tremaining: 7m 53s\n",
      "100:\tlearn: 1.5274508\ttest: 1.5412215\tbest: 1.5412215 (100)\ttotal: 36.6s\tremaining: 5m 26s\n",
      "200:\tlearn: 1.5011670\ttest: 1.5271316\tbest: 1.5271316 (200)\ttotal: 1m 13s\tremaining: 4m 53s\n",
      "300:\tlearn: 1.4861939\ttest: 1.5235873\tbest: 1.5235787 (299)\ttotal: 1m 49s\tremaining: 4m 13s\n",
      "400:\tlearn: 1.4737425\ttest: 1.5223970\tbest: 1.5223970 (400)\ttotal: 2m 23s\tremaining: 3m 34s\n",
      "500:\tlearn: 1.4621904\ttest: 1.5216077\tbest: 1.5216077 (500)\ttotal: 2m 58s\tremaining: 2m 57s\n",
      "600:\tlearn: 1.4515444\ttest: 1.5216772\tbest: 1.5214074 (544)\ttotal: 3m 33s\tremaining: 2m 21s\n",
      "700:\tlearn: 1.4412373\ttest: 1.5220170\tbest: 1.5214074 (544)\ttotal: 4m 8s\tremaining: 1m 46s\n",
      "800:\tlearn: 1.4318662\ttest: 1.5226756\tbest: 1.5214074 (544)\ttotal: 4m 44s\tremaining: 1m 10s\n",
      "900:\tlearn: 1.4226320\ttest: 1.5235204\tbest: 1.5214074 (544)\ttotal: 5m 19s\tremaining: 35.1s\n",
      "999:\tlearn: 1.4140088\ttest: 1.5244724\tbest: 1.5214074 (544)\ttotal: 5m 55s\tremaining: 0us\n",
      "\n",
      "bestTest = 1.521407428\n",
      "bestIteration = 544\n",
      "\n",
      "Shrink model to first 545 iterations.\n"
     ]
    },
    {
     "data": {
      "text/plain": [
       "<catboost.core.CatBoostClassifier at 0x2576904eaf0>"
      ]
     },
     "execution_count": 59,
     "metadata": {},
     "output_type": "execute_result"
    }
   ],
   "source": [
    "from catboost import CatBoostClassifier\n",
    "cb = CatBoostClassifier(random_state=42,use_best_model=True,iterations=1000)\n",
    "cb.fit(X_train,y_train,use_best_model=True,verbose=100,eval_set=(X_test,y_test))"
   ]
  },
  {
   "cell_type": "code",
   "execution_count": 60,
   "metadata": {},
   "outputs": [
    {
     "name": "stdout",
     "output_type": "stream",
     "text": [
      "                    precision    recall  f1-score   support\n",
      "\n",
      "              0-10       0.38      0.15      0.22      7851\n",
      "             11-20       0.41      0.51      0.45     25695\n",
      "             21-30       0.43      0.63      0.51     28994\n",
      "             31-40       0.40      0.23      0.29     18113\n",
      "             41-50       0.17      0.00      0.01      3846\n",
      "             51-60       0.41      0.47      0.44     11661\n",
      "             61-70       0.00      0.00      0.00       909\n",
      "             71-80       0.36      0.02      0.04      3341\n",
      "             81-90       0.33      0.18      0.23      1594\n",
      "            91-100       0.33      0.01      0.02       901\n",
      "More than 100 Days       0.51      0.41      0.45      2180\n",
      "\n",
      "          accuracy                           0.41    105085\n",
      "         macro avg       0.34      0.24      0.24    105085\n",
      "      weighted avg       0.40      0.41      0.38    105085\n",
      "\n",
      "\n",
      "\n",
      "[[ 1204  3821  2758    38     6    19     0     1     0     0     4]\n",
      " [  697 13196  9857  1194     5   733     1     3     4     0     5]\n",
      " [  584  9354 18144   402     7   412     1     2    52     1    35]\n",
      " [  295  3682  6982  4181    13  2843     0    20    31     0    66]\n",
      " [  124   919  2234   255    11   252     0     4    11     1    35]\n",
      " [  140   990  1567  3075     8  5460     1    28   241     1   150]\n",
      " [   29   153   439    81     3   156     0     6    10     1    31]\n",
      " [   38   252   332   760     3  1592     0    74    55     3   232]\n",
      " [   21    68    76   142     0   824     0     8   288     0   167]\n",
      " [    9    48   101   174     2   409     0    13    11     7   127]\n",
      " [   35    96   128   160     6   654     0    45   159     7   890]]\n"
     ]
    }
   ],
   "source": [
    "cb_pred = cb.predict(X_test)\n",
    "print(classification_report(y_test,cb_pred))\n",
    "print('\\n')\n",
    "print(confusion_matrix(y_test,cb_pred))"
   ]
  },
  {
   "cell_type": "markdown",
   "metadata": {},
   "source": [
    "# CatBoost = 41% ACCURACY\n",
    "# So far, CatBoost seems to be the best model"
   ]
  },
  {
   "cell_type": "markdown",
   "metadata": {},
   "source": [
    "# TRYING THE APPROACH OF RESAMPLING OF DATASET (NORMALLY USED IN HIGHLY IMBALANCED DATASET)"
   ]
  },
  {
   "cell_type": "code",
   "execution_count": 61,
   "metadata": {},
   "outputs": [],
   "source": [
    "df4 = df3.copy()"
   ]
  },
  {
   "cell_type": "code",
   "execution_count": 62,
   "metadata": {},
   "outputs": [
    {
     "data": {
      "text/plain": [
       "23604"
      ]
     },
     "execution_count": 62,
     "metadata": {},
     "output_type": "execute_result"
    }
   ],
   "source": [
    "len(df4[df4['Stay_cat']==0])"
   ]
  },
  {
   "cell_type": "code",
   "execution_count": 64,
   "metadata": {},
   "outputs": [
    {
     "data": {
      "text/plain": [
       "<AxesSubplot:xlabel='Stay', ylabel='count'>"
      ]
     },
     "execution_count": 64,
     "metadata": {},
     "output_type": "execute_result"
    },
    {
     "data": {
      "image/png": "[encoded data removed]",
      "text/plain": [
       "<Figure size 1080x432 with 1 Axes>"
      ]
     },
     "metadata": {
      "needs_background": "light"
     },
     "output_type": "display_data"
    }
   ],
   "source": [
    "plt.figure(figsize=(15,6))\n",
    "sns.countplot(x='Stay',data=df4)"
   ]
  },
  {
   "cell_type": "code",
   "execution_count": 67,
   "metadata": {},
   "outputs": [
    {
     "name": "stdout",
     "output_type": "stream",
     "text": [
      "count of category 0-10 is : \n",
      "23604\n",
      "count of category 41-50 is : \n",
      "11743\n",
      "count of category 31-40 is : \n",
      "55159\n",
      "count of category 11-20 is : \n",
      "78139\n",
      "count of category 51-60 is : \n",
      "35018\n",
      "count of category 21-30 is : \n",
      "87491\n",
      "count of category 71-80 is : \n",
      "10254\n",
      "count of category More than 100 Days is : \n",
      "6683\n",
      "count of category 81-90 is : \n",
      "4838\n",
      "count of category 61-70 is : \n",
      "2744\n",
      "count of category 91-100 is : \n",
      "2765\n"
     ]
    }
   ],
   "source": [
    "for i in df4['Stay'].unique():\n",
    "    print(f'count of category {i} is : ')\n",
    "    print(len(df4[df4['Stay']==i]))\n",
    "    "
   ]
  },
  {
   "cell_type": "markdown",
   "metadata": {},
   "source": [
    "# we'll make a dataset which conatins only 2700 values from each category"
   ]
  },
  {
   "cell_type": "code",
   "execution_count": 69,
   "metadata": {},
   "outputs": [],
   "source": [
    "d_0 = df4[df4['Stay_cat']==0][:2700]"
   ]
  },
  {
   "cell_type": "code",
   "execution_count": 70,
   "metadata": {},
   "outputs": [],
   "source": [
    "d_1 = df4[df4['Stay_cat']==1][:2700]"
   ]
  },
  {
   "cell_type": "code",
   "execution_count": 71,
   "metadata": {},
   "outputs": [],
   "source": [
    "d_2 = df4[df4['Stay_cat']==2][:2700]\n",
    "d_3 = df4[df4['Stay_cat']==3][:2700]\n",
    "d_4 = df4[df4['Stay_cat']==4][:2700]\n",
    "d_5 = df4[df4['Stay_cat']==5][:2700]\n",
    "d_6 = df4[df4['Stay_cat']==6][:2700]\n",
    "d_7 = df4[df4['Stay_cat']==7][:2700]\n",
    "d_8 = df4[df4['Stay_cat']==8][:2700]\n",
    "d_9 = df4[df4['Stay_cat']==9][:2700]\n",
    "d_10 = df4[df4['Stay_cat']==10][:2700]"
   ]
  },
  {
   "cell_type": "code",
   "execution_count": 72,
   "metadata": {},
   "outputs": [],
   "source": [
    "df_new = pd.concat([d_0,d_1,d_2,d_3,d_4,d_5,d_6,d_7,d_8,d_9,d_10],axis=0)"
   ]
  },
  {
   "cell_type": "code",
   "execution_count": 73,
   "metadata": {},
   "outputs": [
    {
     "data": {
      "text/html": [
       "<div>\n",
       "<style scoped>\n",
       "    .dataframe tbody tr th:only-of-type {\n",
       "        vertical-align: middle;\n",
       "    }\n",
       "\n",
       "    .dataframe tbody tr th {\n",
       "        vertical-align: top;\n",
       "    }\n",
       "\n",
       "    .dataframe thead th {\n",
       "        text-align: right;\n",
       "    }\n",
       "</style>\n",
       "<table border=\"1\" class=\"dataframe\">\n",
       "  <thead>\n",
       "    <tr style=\"text-align: right;\">\n",
       "      <th></th>\n",
       "      <th>Hospital_type_code</th>\n",
       "      <th>Hospital_region_code</th>\n",
       "      <th>Available Extra Rooms in Hospital</th>\n",
       "      <th>Department</th>\n",
       "      <th>Ward_Type</th>\n",
       "      <th>Ward_Facility_Code</th>\n",
       "      <th>Bed Grade</th>\n",
       "      <th>Type of Admission</th>\n",
       "      <th>Severity of Illness</th>\n",
       "      <th>Visitors with Patient</th>\n",
       "      <th>Admission_Deposit</th>\n",
       "      <th>Stay</th>\n",
       "      <th>Stay_cat</th>\n",
       "      <th>Age_cat</th>\n",
       "    </tr>\n",
       "  </thead>\n",
       "  <tbody>\n",
       "    <tr>\n",
       "      <th>0</th>\n",
       "      <td>2</td>\n",
       "      <td>2</td>\n",
       "      <td>3</td>\n",
       "      <td>3</td>\n",
       "      <td>2</td>\n",
       "      <td>5</td>\n",
       "      <td>2.0</td>\n",
       "      <td>0</td>\n",
       "      <td>0</td>\n",
       "      <td>2</td>\n",
       "      <td>4911.0</td>\n",
       "      <td>0-10</td>\n",
       "      <td>0</td>\n",
       "      <td>6</td>\n",
       "    </tr>\n",
       "    <tr>\n",
       "      <th>6</th>\n",
       "      <td>5</td>\n",
       "      <td>1</td>\n",
       "      <td>1</td>\n",
       "      <td>3</td>\n",
       "      <td>3</td>\n",
       "      <td>1</td>\n",
       "      <td>3.0</td>\n",
       "      <td>0</td>\n",
       "      <td>0</td>\n",
       "      <td>2</td>\n",
       "      <td>6167.0</td>\n",
       "      <td>0-10</td>\n",
       "      <td>0</td>\n",
       "      <td>6</td>\n",
       "    </tr>\n",
       "    <tr>\n",
       "      <th>12</th>\n",
       "      <td>2</td>\n",
       "      <td>2</td>\n",
       "      <td>2</td>\n",
       "      <td>3</td>\n",
       "      <td>2</td>\n",
       "      <td>0</td>\n",
       "      <td>3.0</td>\n",
       "      <td>0</td>\n",
       "      <td>0</td>\n",
       "      <td>2</td>\n",
       "      <td>5141.0</td>\n",
       "      <td>0-10</td>\n",
       "      <td>0</td>\n",
       "      <td>6</td>\n",
       "    </tr>\n",
       "    <tr>\n",
       "      <th>14</th>\n",
       "      <td>0</td>\n",
       "      <td>0</td>\n",
       "      <td>4</td>\n",
       "      <td>2</td>\n",
       "      <td>1</td>\n",
       "      <td>5</td>\n",
       "      <td>3.0</td>\n",
       "      <td>0</td>\n",
       "      <td>0</td>\n",
       "      <td>2</td>\n",
       "      <td>2685.0</td>\n",
       "      <td>0-10</td>\n",
       "      <td>0</td>\n",
       "      <td>8</td>\n",
       "    </tr>\n",
       "    <tr>\n",
       "      <th>15</th>\n",
       "      <td>0</td>\n",
       "      <td>0</td>\n",
       "      <td>3</td>\n",
       "      <td>2</td>\n",
       "      <td>1</td>\n",
       "      <td>5</td>\n",
       "      <td>3.0</td>\n",
       "      <td>0</td>\n",
       "      <td>0</td>\n",
       "      <td>2</td>\n",
       "      <td>9398.0</td>\n",
       "      <td>0-10</td>\n",
       "      <td>0</td>\n",
       "      <td>8</td>\n",
       "    </tr>\n",
       "  </tbody>\n",
       "</table>\n",
       "</div>"
      ],
      "text/plain": [
       "    Hospital_type_code  Hospital_region_code  \\\n",
       "0                    2                     2   \n",
       "6                    5                     1   \n",
       "12                   2                     2   \n",
       "14                   0                     0   \n",
       "15                   0                     0   \n",
       "\n",
       "    Available Extra Rooms in Hospital  Department  Ward_Type  \\\n",
       "0                                   3           3          2   \n",
       "6                                   1           3          3   \n",
       "12                                  2           3          2   \n",
       "14                                  4           2          1   \n",
       "15                                  3           2          1   \n",
       "\n",
       "    Ward_Facility_Code  Bed Grade  Type of Admission  Severity of Illness  \\\n",
       "0                    5        2.0                  0                    0   \n",
       "6                    1        3.0                  0                    0   \n",
       "12                   0        3.0                  0                    0   \n",
       "14                   5        3.0                  0                    0   \n",
       "15                   5        3.0                  0                    0   \n",
       "\n",
       "    Visitors with Patient  Admission_Deposit  Stay  Stay_cat  Age_cat  \n",
       "0                       2             4911.0  0-10         0        6  \n",
       "6                       2             6167.0  0-10         0        6  \n",
       "12                      2             5141.0  0-10         0        6  \n",
       "14                      2             2685.0  0-10         0        8  \n",
       "15                      2             9398.0  0-10         0        8  "
      ]
     },
     "execution_count": 73,
     "metadata": {},
     "output_type": "execute_result"
    }
   ],
   "source": [
    "df_new.head()"
   ]
  },
  {
   "cell_type": "code",
   "execution_count": 74,
   "metadata": {},
   "outputs": [
    {
     "data": {
      "text/plain": [
       "Available Extra Rooms in Hospital   -0.138529\n",
       "Admission_Deposit                   -0.080558\n",
       "Severity of Illness                 -0.040679\n",
       "Hospital_region_code                 0.002927\n",
       "Ward_Facility_Code                   0.008718\n",
       "Type of Admission                    0.021642\n",
       "Hospital_type_code                   0.039164\n",
       "Department                           0.042179\n",
       "Age_cat                              0.066009\n",
       "Bed Grade                            0.069513\n",
       "Ward_Type                            0.216041\n",
       "Visitors with Patient                0.551930\n",
       "Name: Stay_cat, dtype: float64"
      ]
     },
     "execution_count": 74,
     "metadata": {},
     "output_type": "execute_result"
    }
   ],
   "source": [
    "df_new.corr()['Stay_cat'].sort_values()[:-1]"
   ]
  },
  {
   "cell_type": "code",
   "execution_count": 100,
   "metadata": {},
   "outputs": [],
   "source": [
    "X = df_new.drop(['Stay_cat','Stay'],axis=1)\n",
    "y = df_new['Stay']"
   ]
  },
  {
   "cell_type": "code",
   "execution_count": 101,
   "metadata": {},
   "outputs": [],
   "source": [
    "X_train, X_test, y_train, y_test = train_test_split(X, y, test_size=0.2, random_state=42)"
   ]
  },
  {
   "cell_type": "code",
   "execution_count": 102,
   "metadata": {},
   "outputs": [],
   "source": [
    "X_train = sc.fit_transform(X_train)\n",
    "X_test = sc.transform(X_test)"
   ]
  },
  {
   "cell_type": "code",
   "execution_count": 103,
   "metadata": {},
   "outputs": [
    {
     "data": {
      "text/plain": [
       "29700"
      ]
     },
     "execution_count": 103,
     "metadata": {},
     "output_type": "execute_result"
    }
   ],
   "source": [
    "len(X)"
   ]
  },
  {
   "cell_type": "code",
   "execution_count": 104,
   "metadata": {},
   "outputs": [
    {
     "data": {
      "text/plain": [
       "(23760, 12)"
      ]
     },
     "execution_count": 104,
     "metadata": {},
     "output_type": "execute_result"
    }
   ],
   "source": [
    "X_train.shape"
   ]
  },
  {
   "cell_type": "code",
   "execution_count": 98,
   "metadata": {},
   "outputs": [
    {
     "name": "stdout",
     "output_type": "stream",
     "text": [
      "Learning rate set to 0.276251\n",
      "0:\tlearn: 2.2336305\ttest: 2.2558758\tbest: 2.2558758 (0)\ttotal: 177ms\tremaining: 17.5s\n",
      "99:\tlearn: 1.0015158\ttest: 1.9383770\tbest: 1.8820329 (35)\ttotal: 16.9s\tremaining: 0us\n",
      "\n",
      "bestTest = 1.882032883\n",
      "bestIteration = 35\n",
      "\n",
      "Shrink model to first 36 iterations.\n"
     ]
    },
    {
     "data": {
      "text/plain": [
       "<catboost.core.CatBoostClassifier at 0x25bda7478b0>"
      ]
     },
     "execution_count": 98,
     "metadata": {},
     "output_type": "execute_result"
    }
   ],
   "source": [
    "cb = CatBoostClassifier(random_state=42,use_best_model=True,iterations=1000)\n",
    "cb.fit(X_train,y_train,use_best_model=True,verbose=100,eval_set=(X_test,y_test))"
   ]
  },
  {
   "cell_type": "code",
   "execution_count": 99,
   "metadata": {},
   "outputs": [
    {
     "name": "stdout",
     "output_type": "stream",
     "text": [
      "                    precision    recall  f1-score   support\n",
      "\n",
      "              0-10       0.34      0.55      0.42       868\n",
      "             11-20       0.29      0.33      0.31       893\n",
      "             21-30       0.25      0.31      0.28       890\n",
      "             31-40       0.17      0.10      0.13       888\n",
      "             41-50       0.26      0.21      0.23       933\n",
      "             51-60       0.26      0.25      0.26       885\n",
      "             61-70       0.22      0.16      0.18       890\n",
      "             71-80       0.22      0.24      0.23       875\n",
      "             81-90       0.48      0.64      0.54       862\n",
      "            91-100       0.30      0.21      0.25       940\n",
      "More than 100 Days       0.51      0.44      0.47       877\n",
      "\n",
      "          accuracy                           0.31      9801\n",
      "         macro avg       0.30      0.31      0.30      9801\n",
      "      weighted avg       0.30      0.31      0.30      9801\n",
      "\n",
      "\n",
      "\n",
      "[[475 131  89  26  72   5  57   8   1   4   0]\n",
      " [212 298 175  46  71  16  46  17   5   7   0]\n",
      " [163 192 279  50 108   8  62  14   7   3   4]\n",
      " [113 107 138  89  97 111  61  92  32  42   6]\n",
      " [142 111 195  61 199  32 121  22  13  31   6]\n",
      " [ 35  31  38  62  30 219  41 189 127  89  24]\n",
      " [115  90 125  58 125  35 139  62  60  42  39]\n",
      " [ 38  26  16  52  22 167  36 213  78 142  85]\n",
      " [ 32   3   9  17   6  51  17  54 548  29  96]\n",
      " [ 31  24  24  43  25 141  45 223  70 199 115]\n",
      " [ 30  18  17  17  11  42  17  67 209  66 383]]\n"
     ]
    }
   ],
   "source": [
    "cb_pred = cb.predict(X_test)\n",
    "print(classification_report(y_test,cb_pred))\n",
    "print('\\n')\n",
    "print(confusion_matrix(y_test,cb_pred))"
   ]
  },
  {
   "cell_type": "markdown",
   "metadata": {},
   "source": [
    "# CatBoost accuracy on resampled dataset = 32%\n",
    "# CatBoost seems to perform not as good as it performed on the original dataset"
   ]
  },
  {
   "cell_type": "code",
   "execution_count": 105,
   "metadata": {},
   "outputs": [],
   "source": [
    "X2 = df4.drop(['Stay_cat','Stay'],axis=1)\n",
    "y2 = df4['Stay']\n",
    "X2_train, X2_test, y2_train, y2_test = train_test_split(X2, y2, test_size=0.2, random_state=42)\n",
    "X2_train = sc.fit_transform(X2_train)\n",
    "X2_test = sc.transform(X2_test)"
   ]
  },
  {
   "cell_type": "code",
   "execution_count": 107,
   "metadata": {},
   "outputs": [
    {
     "name": "stdout",
     "output_type": "stream",
     "text": [
      "                    precision    recall  f1-score   support\n",
      "\n",
      "              0-10       0.20      0.40      0.27      4689\n",
      "             11-20       0.41      0.21      0.28     15561\n",
      "             21-30       0.48      0.20      0.28     17603\n",
      "             31-40       0.15      0.05      0.08     10981\n",
      "             41-50       0.07      0.15      0.10      2357\n",
      "             51-60       0.15      0.11      0.13      7128\n",
      "             61-70       0.03      0.21      0.05       554\n",
      "             71-80       0.05      0.11      0.07      2031\n",
      "             81-90       0.03      0.24      0.05       941\n",
      "            91-100       0.03      0.22      0.05       552\n",
      "More than 100 Days       0.20      0.64      0.30      1291\n",
      "\n",
      "          accuracy                           0.19     63688\n",
      "         macro avg       0.16      0.23      0.15     63688\n",
      "      weighted avg       0.30      0.19      0.21     63688\n",
      "\n",
      "\n",
      "\n",
      "[[1875  545  347  339  269  302  449  272   31  247   13]\n",
      " [3153 3268 1814 1241 1030 1351  931 1101  730  772  170]\n",
      " [2649 2625 3518 1220 1887 1270 1562 1471  222  989  190]\n",
      " [ 999  992 1059  588  826 1104  770  919 2527  651  546]\n",
      " [ 278  238  300  138  344  147  275  215  167  164   91]\n",
      " [ 304  176  180  181  159  794  231  673 2705  548 1177]\n",
      " [  39   34   50   23   55   34  117   40   66   32   64]\n",
      " [  77   23   30   39   29  184   50  232  735  198  434]\n",
      " [  25   11   10    7    8   15   12   30  224   44  555]\n",
      " [  15    5    2   13   10   50    9   52  148  120  128]\n",
      " [  44   11    8   17   18   35   19   34  182   95  828]]\n"
     ]
    }
   ],
   "source": [
    "cb_pred2 = cb.predict(X2_test)\n",
    "print(classification_report(y2_test,cb_pred2))\n",
    "print('\\n')\n",
    "print(confusion_matrix(y2_test,cb_pred2))"
   ]
  },
  {
   "cell_type": "markdown",
   "metadata": {},
   "source": [
    "# So, when the resampled CatBoost model is applied to the original dataset, the model's performance is very poor."
   ]
  },
  {
   "cell_type": "markdown",
   "metadata": {},
   "source": [
    "# Hence, the best approach is to use CatBoost classifier on the original dataset, which will give around 41% accuracy"
   ]
  },
  {
   "cell_type": "code",
   "execution_count": 108,
   "metadata": {},
   "outputs": [],
   "source": [
    "X = df3.drop(['Stay_cat','Stay'],axis=1)\n",
    "y = df3['Stay']\n",
    "X_train, X_test, y_train, y_test = train_test_split(X, y, test_size=0.33, random_state=42)\n",
    "X_train = sc.fit_transform(X_train)\n",
    "X_test = sc.transform(X_test)"
   ]
  },
  {
   "cell_type": "code",
   "execution_count": 114,
   "metadata": {},
   "outputs": [
    {
     "name": "stdout",
     "output_type": "stream",
     "text": [
      "Learning rate set to 0.146102\n",
      "0:\tlearn: 2.1622485\ttest: 2.1620118\tbest: 2.1620118 (0)\ttotal: 349ms\tremaining: 3m 29s\n",
      "100:\tlearn: 1.5195864\ttest: 1.5366842\tbest: 1.5366842 (100)\ttotal: 33.6s\tremaining: 2m 46s\n",
      "200:\tlearn: 1.4946382\ttest: 1.5257209\tbest: 1.5257209 (200)\ttotal: 1m 8s\tremaining: 2m 15s\n",
      "300:\tlearn: 1.4783891\ttest: 1.5230839\tbest: 1.5230839 (300)\ttotal: 1m 42s\tremaining: 1m 42s\n",
      "400:\tlearn: 1.4631218\ttest: 1.5222015\tbest: 1.5221693 (395)\ttotal: 2m 17s\tremaining: 1m 8s\n",
      "500:\tlearn: 1.4498471\ttest: 1.5220843\tbest: 1.5218036 (461)\ttotal: 2m 53s\tremaining: 34.2s\n",
      "599:\tlearn: 1.4379362\ttest: 1.5227074\tbest: 1.5218036 (461)\ttotal: 3m 27s\tremaining: 0us\n",
      "\n",
      "bestTest = 1.521803571\n",
      "bestIteration = 461\n",
      "\n",
      "Shrink model to first 462 iterations.\n"
     ]
    },
    {
     "data": {
      "text/plain": [
       "<catboost.core.CatBoostClassifier at 0x25bda591fd0>"
      ]
     },
     "execution_count": 114,
     "metadata": {},
     "output_type": "execute_result"
    }
   ],
   "source": [
    "cb = CatBoostClassifier(random_state=42,use_best_model=True,iterations=600)\n",
    "cb.fit(X_train,y_train,use_best_model=True,verbose=100,eval_set=(X_test,y_test))"
   ]
  },
  {
   "cell_type": "code",
   "execution_count": 116,
   "metadata": {},
   "outputs": [
    {
     "name": "stdout",
     "output_type": "stream",
     "text": [
      "                    precision    recall  f1-score   support\n",
      "\n",
      "              0-10       0.38      0.15      0.22      7851\n",
      "             11-20       0.41      0.51      0.45     25695\n",
      "             21-30       0.43      0.63      0.51     28994\n",
      "             31-40       0.40      0.23      0.30     18113\n",
      "             41-50       0.18      0.00      0.00      3846\n",
      "             51-60       0.41      0.47      0.44     11661\n",
      "             61-70       0.00      0.00      0.00       909\n",
      "             71-80       0.35      0.02      0.04      3341\n",
      "             81-90       0.33      0.19      0.24      1594\n",
      "            91-100       0.39      0.01      0.02       901\n",
      "More than 100 Days       0.52      0.41      0.45      2180\n",
      "\n",
      "          accuracy                           0.41    105085\n",
      "         macro avg       0.34      0.24      0.24    105085\n",
      "      weighted avg       0.40      0.41      0.38    105085\n",
      "\n",
      "\n",
      "\n",
      "[[ 1201  3814  2758    44     5    25     0     1     0     0     3]\n",
      " [  712 13227  9821  1182     5   737     1     2     4     0     4]\n",
      " [  571  9357 18151   414     2   408     1     3    54     1    32]\n",
      " [  309  3625  6995  4227     9  2829     1    23    29     1    65]\n",
      " [  134   906  2225   266     9   253     0     3    12     1    37]\n",
      " [  122  1020  1561  3032     6  5482     0    30   257     2   149]\n",
      " [   28   150   438    80     4   162     0     4    12     0    31]\n",
      " [   41   264   316   771     4  1585     0    71    54     3   232]\n",
      " [   20    65    79   138     0   825     1    12   297     0   157]\n",
      " [    8    45   100   175     0   416     0    13    12     9   123]\n",
      " [   30    92   134   157     5   661     0    42   166     6   887]]\n"
     ]
    }
   ],
   "source": [
    "cb_pred = cb.predict(X_test)\n",
    "print(classification_report(y_test,cb_pred))\n",
    "print('\\n')\n",
    "print(confusion_matrix(y_test,cb_pred))"
   ]
  },
  {
   "cell_type": "code",
   "execution_count": null,
   "metadata": {},
   "outputs": [],
   "source": []
  }
 ],
 "metadata": {
  "kernelspec": {
   "display_name": "Python 3",
   "language": "python",
   "name": "python3"
  },
  "language_info": {
   "codemirror_mode": {
    "name": "ipython",
    "version": 3
   },
   "file_extension": ".py",
   "mimetype": "text/x-python",
   "name": "python",
   "nbconvert_exporter": "python",
   "pygments_lexer": "ipython3",
   "version": "3.8.5"
  }
 },
 "nbformat": 4,
 "nbformat_minor": 4
}
